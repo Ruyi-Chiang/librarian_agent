{
 "cells": [
  {
   "cell_type": "code",
   "execution_count": 33,
   "metadata": {},
   "outputs": [
    {
     "name": "stdout",
     "output_type": "stream",
     "text": [
      "[{'object': 'page', 'id': '24c94cc6-e4ba-815f-a794-c98606f7d177', 'created_time': '2025-08-11T05:51:00.000Z', 'last_edited_time': '2025-08-11T05:51:00.000Z', 'created_by': {'object': 'user', 'id': '214da348-f632-4e03-8e71-a371b7b55dc5'}, 'last_edited_by': {'object': 'user', 'id': '214da348-f632-4e03-8e71-a371b7b55dc5'}, 'cover': None, 'icon': None, 'parent': {'type': 'database_id', 'database_id': '24b94cc6-e4ba-8082-92ce-c1821f5473ac'}, 'archived': False, 'in_trash': False, 'properties': {'Call Number': {'id': 'HK_m', 'type': 'rich_text', 'rich_text': [{'type': 'text', 'text': {'content': '306.73', 'link': None}, 'annotations': {'bold': False, 'italic': False, 'strikethrough': False, 'underline': False, 'code': False, 'color': 'default'}, 'plain_text': '306.73', 'href': None}]}, 'Library Location': {'id': 'HWa%60', 'type': 'rich_text', 'rich_text': [{'type': 'text', 'text': {'content': 'Sunnyvale Public Library', 'link': None}, 'annotations': {'bold': False, 'italic': False, 'strikethrough': False, 'underline': False, 'code': False, 'color': 'default'}, 'plain_text': 'Sunnyvale Public Library', 'href': None}]}, 'Date': {'id': 'LgQI', 'type': 'date', 'date': {'start': '2025-08-11T05:51:00.000+00:00', 'end': None, 'time_zone': None}}, 'Status': {'id': 'kCwE', 'type': 'status', 'status': {'id': '9df15023-6148-4bdb-901b-47b94e6a6ce8', 'name': 'All Copies in Use', 'color': 'blue'}}, 'Title': {'id': 'title', 'type': 'title', 'title': [{'type': 'text', 'text': {'content': 'How to Not Die Alone', 'link': None}, 'annotations': {'bold': False, 'italic': False, 'strikethrough': False, 'underline': False, 'code': False, 'color': 'default'}, 'plain_text': 'How to Not Die Alone', 'href': None}]}}, 'url': 'https://www.notion.so/How-to-Not-Die-Alone-24c94cc6e4ba815fa794c98606f7d177', 'public_url': None}, {'object': 'page', 'id': '24c94cc6-e4ba-8102-89d0-ef711773f168', 'created_time': '2025-08-11T05:50:00.000Z', 'last_edited_time': '2025-08-11T05:50:00.000Z', 'created_by': {'object': 'user', 'id': '214da348-f632-4e03-8e71-a371b7b55dc5'}, 'last_edited_by': {'object': 'user', 'id': '214da348-f632-4e03-8e71-a371b7b55dc5'}, 'cover': None, 'icon': None, 'parent': {'type': 'database_id', 'database_id': '24b94cc6-e4ba-8082-92ce-c1821f5473ac'}, 'archived': False, 'in_trash': False, 'properties': {'Call Number': {'id': 'HK_m', 'type': 'rich_text', 'rich_text': [{'type': 'text', 'text': {'content': '306.73', 'link': None}, 'annotations': {'bold': False, 'italic': False, 'strikethrough': False, 'underline': False, 'code': False, 'color': 'default'}, 'plain_text': '306.73', 'href': None}]}, 'Library Location': {'id': 'HWa%60', 'type': 'rich_text', 'rich_text': [{'type': 'text', 'text': {'content': 'Sunnyvale Public Library', 'link': None}, 'annotations': {'bold': False, 'italic': False, 'strikethrough': False, 'underline': False, 'code': False, 'color': 'default'}, 'plain_text': 'Sunnyvale Public Library', 'href': None}]}, 'Date': {'id': 'LgQI', 'type': 'date', 'date': {'start': '2025-08-11', 'end': None, 'time_zone': None}}, 'Status': {'id': 'kCwE', 'type': 'status', 'status': {'id': '9df15023-6148-4bdb-901b-47b94e6a6ce8', 'name': 'All Copies in Use', 'color': 'blue'}}, 'Title': {'id': 'title', 'type': 'title', 'title': [{'type': 'text', 'text': {'content': 'How to Not Die Alone', 'link': None}, 'annotations': {'bold': False, 'italic': False, 'strikethrough': False, 'underline': False, 'code': False, 'color': 'default'}, 'plain_text': 'How to Not Die Alone', 'href': None}]}}, 'url': 'https://www.notion.so/How-to-Not-Die-Alone-24c94cc6e4ba810289d0ef711773f168', 'public_url': None}, {'object': 'page', 'id': '24b94cc6-e4ba-80b4-9e94-c842734febe3', 'created_time': '2025-08-10T06:08:00.000Z', 'last_edited_time': '2025-08-10T06:09:00.000Z', 'created_by': {'object': 'user', 'id': '21e866be-1234-4086-b3ac-ab83d1fae095'}, 'last_edited_by': {'object': 'user', 'id': '21e866be-1234-4086-b3ac-ab83d1fae095'}, 'cover': None, 'icon': None, 'parent': {'type': 'database_id', 'database_id': '24b94cc6-e4ba-8082-92ce-c1821f5473ac'}, 'archived': False, 'in_trash': False, 'properties': {'Call Number': {'id': 'HK_m', 'type': 'rich_text', 'rich_text': [{'type': 'text', 'text': {'content': '615.222', 'link': None}, 'annotations': {'bold': False, 'italic': False, 'strikethrough': False, 'underline': False, 'code': False, 'color': 'default'}, 'plain_text': '615.222', 'href': None}]}, 'Library Location': {'id': 'HWa%60', 'type': 'rich_text', 'rich_text': [{'type': 'text', 'text': {'content': 'Sunnyvale Public Library', 'link': None}, 'annotations': {'bold': False, 'italic': False, 'strikethrough': False, 'underline': False, 'code': False, 'color': 'default'}, 'plain_text': 'Sunnyvale Public Library', 'href': None}]}, 'Date': {'id': 'LgQI', 'type': 'date', 'date': {'start': '2025-08-09', 'end': None, 'time_zone': None}}, 'Status': {'id': 'kCwE', 'type': 'status', 'status': {'id': '9df15023-6148-4bdb-901b-47b94e6a6ce8', 'name': 'All Copies in Use', 'color': 'blue'}}, 'Title': {'id': 'title', 'type': 'title', 'title': [{'type': 'text', 'text': {'content': 'Maybe you should talk to somone', 'link': None}, 'annotations': {'bold': False, 'italic': False, 'strikethrough': False, 'underline': False, 'code': False, 'color': 'default'}, 'plain_text': 'Maybe you should talk to somone', 'href': None}]}}, 'url': 'https://www.notion.so/Maybe-you-should-talk-to-somone-24b94cc6e4ba80b49e94c842734febe3', 'public_url': None}]\n"
     ]
    }
   ],
   "source": [
    "import requests\n",
    "from datetime import datetime, timezone\n",
    "from pprint import pprint\n",
    "\n",
    "from dotenv import load_dotenv\n",
    "import os\n",
    "# Load environment variables from .env file\n",
    "load_dotenv()\n",
    "\n",
    "# Now you can access your API keys directly\n",
    "NOTION_TOKEN = os.environ.get(\"NOTION_TOKEN\")\n",
    "DATABASE_ID = os.environ.get(\"NOTION_DATABASE_ID\")\n",
    "\n",
    "headers = {\n",
    "    \"Authorization\": \"Bearer \" + NOTION_TOKEN,\n",
    "    \"Content-Type\": \"application/json\",\n",
    "    \"Notion-Version\": \"2022-06-28\",\n",
    "}\n",
    "\n",
    "def create_page(data: dict):\n",
    "    create_url = \"https://api.notion.com/v1/pages\"\n",
    "\n",
    "    payload = {\"parent\": {\"database_id\": DATABASE_ID}, \"properties\": data}\n",
    "\n",
    "    res = requests.post(create_url, headers=headers, json=payload)\n",
    "    # print(res.status_code)\n",
    "    return res\n",
    "\n",
    "def get_pages(num_pages=None):\n",
    "    \"\"\"\n",
    "    If num_pages is None, get all pages, otherwise just the defined number.\n",
    "    \"\"\"\n",
    "    url = f\"https://api.notion.com/v1/databases/{DATABASE_ID}/query\"\n",
    "\n",
    "    get_all = num_pages is None\n",
    "    page_size = 100 if get_all else num_pages\n",
    "\n",
    "    payload = {\"page_size\": page_size}\n",
    "    response = requests.post(url, json=payload, headers=headers)\n",
    "\n",
    "    data = response.json()\n",
    "\n",
    "    # Comment this out to dump all data to a file\n",
    "    import json\n",
    "    with open('db.json', 'w', encoding='utf8') as f:\n",
    "       json.dump(data, f, ensure_ascii=False, indent=4)\n",
    "\n",
    "    results = data[\"results\"]\n",
    "    while data[\"has_more\"] and get_all:\n",
    "        payload = {\"page_size\": page_size, \"start_cursor\": data[\"next_cursor\"]}\n",
    "        url = f\"https://api.notion.com/v1/databases/{DATABASE_ID}/query\"\n",
    "        response = requests.post(url, json=payload, headers=headers)\n",
    "        data = response.json()\n",
    "        results.extend(data[\"results\"])\n",
    "\n",
    "    return results\n",
    "\n",
    "print(get_pages())"
   ]
  },
  {
   "cell_type": "markdown",
   "metadata": {},
   "source": [
    "# Query the database"
   ]
  },
  {
   "cell_type": "code",
   "execution_count": 38,
   "metadata": {},
   "outputs": [
    {
     "name": "stdout",
     "output_type": "stream",
     "text": [
      "{'Call Number': {'content': '306.73 URY', 'link': None},\n",
      " 'Date': '2025-08-11T05:54:00.000+00:00',\n",
      " 'ID': '24c94cc6-e4ba-816b-a8c2-de9c7fe2b4ad',\n",
      " 'Location': 'Sunnyvale Public Library',\n",
      " 'Status': 'All Copies in Use',\n",
      " 'Title': 'How to Not Die Alone'}\n",
      "{'Call Number': {'content': '615.222', 'link': None},\n",
      " 'Date': '2025-08-09',\n",
      " 'ID': '24b94cc6-e4ba-80b4-9e94-c842734febe3',\n",
      " 'Location': 'Sunnyvale Public Library',\n",
      " 'Status': 'All Copies in Use',\n",
      " 'Title': 'Maybe you should talk to somone'}\n"
     ]
    }
   ],
   "source": [
    "pages = get_pages()\n",
    "\n",
    "for page in pages:\n",
    "    props = page[\"properties\"]\n",
    "\n",
    "    data = {\n",
    "        \"ID\": page[\"id\"],\n",
    "        \"Title\": props[\"Title\"][\"title\"][0][\"text\"][\"content\"],\n",
    "        \"Status\": props[\"Status\"][\"status\"][\"name\"],\n",
    "        \"Call Number\": props[\"Call Number\"][\"rich_text\"][0][\"text\"],\n",
    "        \"Location\": props[\"Library Location\"][\"rich_text\"][0][\"text\"][\"content\"],\n",
    "        \"Date\": props[\"Date\"][\"date\"][\"start\"]\n",
    "    }\n",
    "\n",
    "    pprint(data)  # pretty print dict"
   ]
  },
  {
   "cell_type": "markdown",
   "metadata": {},
   "source": [
    "# Create database"
   ]
  },
  {
   "cell_type": "code",
   "execution_count": 27,
   "metadata": {},
   "outputs": [],
   "source": [
    "def create_page(data: dict):\n",
    "    create_url = \"https://api.notion.com/v1/pages\"\n",
    "\n",
    "    payload = {\"parent\": {\"database_id\": DATABASE_ID}, \"properties\": data}\n",
    "\n",
    "    # Debug: Print payload\n",
    "    print(\"Payload:\", payload)\n",
    "    print(\"Headers:\", headers)\n",
    "\n",
    "    res = requests.post(create_url, headers=headers, json=payload)\n",
    "    # print(res.status_code)\n",
    "    # Debug: Print response details\n",
    "    print(f\"Status: {res.status_code}\")\n",
    "    print(f\"Response: {res.text}\")\n",
    "    \n",
    "    if res.status_code != 200:\n",
    "        print(f\"Error: {res.status_code} - {res.text}\")\n",
    "    return res"
   ]
  },
  {
   "cell_type": "code",
   "execution_count": 36,
   "metadata": {},
   "outputs": [
    {
     "data": {
      "text/plain": [
       "<Response [200]>"
      ]
     },
     "execution_count": 36,
     "metadata": {},
     "output_type": "execute_result"
    }
   ],
   "source": [
    "from datetime import datetime, timezone\n",
    "\n",
    "title = \"How to Not Die Alone\"\n",
    "date_str = datetime.now().astimezone(timezone.utc).isoformat()\n",
    "status = \"All Copies in Use\"\n",
    "call_number = \"306.73 URY\"  # Must be a number, not string unless I change the datatype in Notion\n",
    "location = \"Sunnyvale Public Library\"\n",
    "data = {\n",
    "    \"Title\": {\n",
    "        \"title\": [{\"text\": {\"content\": title}}]\n",
    "    },\n",
    "    \"Status\": {\n",
    "        \"status\": {\"name\": status}  # must match an existing Status option in Notion\n",
    "    },\n",
    "    \"Call Number\": {\n",
    "        \"rich_text\": [{\"text\": {\"content\": call_number}}]\n",
    "    },\n",
    "    \"Library Location\": {\n",
    "        \"rich_text\": [{\"text\": {\"content\": location}}]\n",
    "    },\n",
    "    \"Date\": {\n",
    "        \"date\": {\"start\": date_str, \"end\": None}\n",
    "    }\n",
    "}\n",
    "create_page(data)"
   ]
  },
  {
   "cell_type": "code",
   "execution_count": null,
   "metadata": {},
   "outputs": [],
   "source": []
  }
 ],
 "metadata": {
  "kernelspec": {
   "display_name": "langgraph_course",
   "language": "python",
   "name": "python3"
  },
  "language_info": {
   "codemirror_mode": {
    "name": "ipython",
    "version": 3
   },
   "file_extension": ".py",
   "mimetype": "text/x-python",
   "name": "python",
   "nbconvert_exporter": "python",
   "pygments_lexer": "ipython3",
   "version": "3.12.11"
  }
 },
 "nbformat": 4,
 "nbformat_minor": 2
}
